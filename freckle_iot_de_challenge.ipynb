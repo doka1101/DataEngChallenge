{
 "cells": [
  {
   "cell_type": "markdown",
   "metadata": {},
   "source": [
    "## Start SparkSession "
   ]
  },
  {
   "cell_type": "code",
   "execution_count": 1,
   "metadata": {
    "collapsed": true
   },
   "outputs": [],
   "source": [
    "from pyspark.sql import SparkSession"
   ]
  },
  {
   "cell_type": "code",
   "execution_count": 2,
   "metadata": {
    "collapsed": true
   },
   "outputs": [],
   "source": [
    "spark = SparkSession.builder.appName('DEChallenge').getOrCreate()"
   ]
  },
  {
   "cell_type": "markdown",
   "metadata": {},
   "source": [
    "## Load data and explore "
   ]
  },
  {
   "cell_type": "code",
   "execution_count": 3,
   "metadata": {
    "collapsed": true
   },
   "outputs": [],
   "source": [
    "#read source data\n",
    "loc_event_df = spark.read.json('location-data-sample/*')"
   ]
  },
  {
   "cell_type": "code",
   "execution_count": 4,
   "metadata": {},
   "outputs": [
    {
     "name": "stdout",
     "output_type": "stream",
     "text": [
      "root\n",
      " |-- action: string (nullable = true)\n",
      " |-- api_key: string (nullable = true)\n",
      " |-- app_id: string (nullable = true)\n",
      " |-- beacon_major: long (nullable = true)\n",
      " |-- beacon_minor: long (nullable = true)\n",
      " |-- beacon_uuid: string (nullable = true)\n",
      " |-- city: string (nullable = true)\n",
      " |-- code: string (nullable = true)\n",
      " |-- community: string (nullable = true)\n",
      " |-- community_code: string (nullable = true)\n",
      " |-- country_code: string (nullable = true)\n",
      " |-- county: string (nullable = true)\n",
      " |-- county_code: string (nullable = true)\n",
      " |-- event_time: long (nullable = true)\n",
      " |-- geohash: string (nullable = true)\n",
      " |-- horizontal_accuracy: double (nullable = true)\n",
      " |-- idfa: string (nullable = true)\n",
      " |-- idfa_hash_alg: string (nullable = true)\n",
      " |-- lat: double (nullable = true)\n",
      " |-- lng: double (nullable = true)\n",
      " |-- place: string (nullable = true)\n",
      " |-- platform: string (nullable = true)\n",
      " |-- state: string (nullable = true)\n",
      " |-- state_code: string (nullable = true)\n",
      " |-- user_ip: string (nullable = true)\n",
      "\n"
     ]
    }
   ],
   "source": [
    "loc_event_df.printSchema()"
   ]
  },
  {
   "cell_type": "code",
   "execution_count": 64,
   "metadata": {},
   "outputs": [
    {
     "name": "stdout",
     "output_type": "stream",
     "text": [
      "+--------------------+--------------------+--------------------+------------+------------+--------------------+--------------------+-----+---------+--------------+------------+-----------+-----------+----------+------------+-------------------+--------------------+-------------+----------------+-----------------+--------------------+--------+----------+----------+---------------+\n",
      "|              action|             api_key|              app_id|beacon_major|beacon_minor|         beacon_uuid|                city| code|community|community_code|country_code|     county|county_code|event_time|     geohash|horizontal_accuracy|                idfa|idfa_hash_alg|             lat|              lng|               place|platform|     state|state_code|        user_ip|\n",
      "+--------------------+--------------------+--------------------+------------+------------+--------------------+--------------------+-----+---------+--------------+------------+-----------+-----------+----------+------------+-------------------+--------------------+-------------+----------------+-----------------+--------------------+--------+----------+----------+---------------+\n",
      "|              config|9de1430e73cc96f15...|  com.airkast.wenzfm|           0|           0|                    |               Duson|70529|         |              |          US|  Lafayette|        055|1491055241|9vqkn2ukc48e|               40.0|72aaa6cb-e50b-484...|             |      30.2393242|      -92.1803991|               Duson| android| Louisiana|        LA| 70.196.144.211|\n",
      "|virtual_beacon_li...|9de1430e73cc96f15...|  com.airkast.wtlcfm|           0|           0|                    |              Dolton|60419|         |              |          US|       Cook|        031|1491055241|dp3syd9y625d|             18.004|ec8914fa-1495-445...|             |      41.6310171|      -87.6024757|              Dolton| android|  Illinois|        IL|   99.50.29.152|\n",
      "|virtual_beacon_li...|9de1430e73cc96f15...|com.airkast.zone_...|           0|           0|                    |            Bellevue|68123|         |              |          US|      Sarpy|        153|1491055241|9z7f0838sc35|               50.0|fe3ed891-3a22-4ed...|             |      41.1342789|      -95.9523244|            Bellevue| android|  Nebraska|        NE| 98.168.220.163|\n",
      "|virtual_beacon_li...|9de1430e73cc96f15...|  com.airkast.knbram|           0|           0|                    |            San Jose|95193|         |              |          US|Santa Clara|        085|1491055241|9q97un5xx39w|             19.909|47b0554d-4bdf-434...|             |      37.2559353|     -121.8112864|            San Jose| android|California|        CA|  99.162.145.38|\n",
      "|              config|9de1430e73cc96f15...|com.airkast.tunek...|           0|           0|                    |          Fort Worth|76112|         |              |          US|    Tarrant|        439|1491055241|9vff79v8dtcj|             20.863|71303a53-0a1f-49b...|             |      32.7489885|      -97.2213419|          Fort Worth| android|     Texas|        TX|   66.87.96.203|\n",
      "|                exit|515975ad822918dde...|           ca.indigo|           0|           0|bfc43208-6280-e07...|              Guelph|  N1G|         |              |          CA|           |           |1491055241|dpwzwjcqgxne|               58.5|98fd27e6-8744-4e6...|             |      43.5386419|      -80.2422648|      Guelph Central| android|   Ontario|        ON| 209.171.88.190|\n",
      "|virtual_beacon_li...|9de1430e73cc96f15...|com.airkast.mark_...|           0|           0|                    |                Pine|80470|         |              |          US|  Jefferson|        059|1491055241|9xj03s5txe9h|             20.957|74eee354-34d6-414...|             |      39.4418816|     -105.3977021|                Pine| android|  Colorado|        CO|  72.42.103.217|\n",
      "|         listrequest|9c4523f4cde116f32...|smartphones.colle...|           0|           0|                    |           Beachwood|44122|         |              |          US|   Cuyahoga|        035|1491055241|dpq5cqsv3znf|                0.0|7e39b4b9-e807-48d...|             |      41.4770744|      -81.5009608|           Beachwood| android|      Ohio|        OH| 174.100.222.73|\n",
      "|virtual_beacon_li...|9de1430e73cc96f15...|com.airkast.mark_...|           0|           0|                    |                Pine|80470|         |              |          US|  Jefferson|        059|1491055241|9xj03s5tesxd|               36.9|74eee354-34d6-414...|             |      39.4418867|     -105.3978651|                Pine| android|  Colorado|        CO|  72.42.103.217|\n",
      "|virtual_beacon_li...|9de1430e73cc96f15...|com.airkast.mark_...|           0|           0|                    |                Pine|80470|         |              |          US|  Jefferson|        059|1491055241|9xj03s5wj2hf|             20.213|74eee354-34d6-414...|             |      39.4419483|     -105.3977936|                Pine| android|  Colorado|        CO|  72.42.103.217|\n",
      "|                exit|72ac64a747d64bd31...|    ca.indigo.mobile|           0|           0|4768f4c0-10a8-2be...|             Toronto|  M5C|         |              |          CA|           |           |1491055241|dpz83g58cc2u|               65.0|e8517dfa-ee4a-4db...|             |       43.654311|       -79.371338|Downtown Toronto ...|     ios|   Ontario|        ON|  209.171.88.65|\n",
      "|         listrequest|e9d18b6c1b97cd776...|             com.c51|           0|           0|                    |         Great Falls|59405|         |              |          US|    Cascade|        013|1491055241|c82ykby9rm1n|                0.0|df9352ac-933f-4f9...|             |      47.5092451|     -111.2273332|         Great Falls| android|   Montana|        MT|  107.77.198.73|\n",
      "|              config|9de1430e73cc96f15...|  com.airkast.wedgfm|           0|           0|                    |             Buffalo|14226|         |              |          US|       Erie|        029|1491055241|dpxuqzq0teug|               20.0|86f277a7-72b4-404...|             |      42.9745023|      -78.7964494|             Buffalo| android|  New York|        NY|   72.75.204.38|\n",
      "|virtual_beacon_li...|515975ad822918dde...|           ca.indigo|           0|           0|                    |         Mississauga|  L5N|         |              |          CA|           |           |1491055241|dpxpzdxfuh4c|             1700.0|40ddd4f0-d97d-4cd...|             |      43.5640313|      -79.8158417|Mississauga (Lisg...| android|   Ontario|        ON|207.219.108.230|\n",
      "|              config|9de1430e73cc96f15...|com.airkast.zone_...|           0|           0|                    |            Longmont|80504|         |              |          US|       Weld|        123|1491055241|9xjkkmdrj5p2|             76.352|e410bb0f-adc1-478...|             |      40.1535006|     -104.9271057|            Longmont| android|  Colorado|        CO|   24.8.178.114|\n",
      "|         listrequest|9c4523f4cde116f32...|smartphones.colle...|           0|           0|                    |Point Pleasant Beach|08742|         |              |          US|      Ocean|        029|1491055241|dr57fjynsvxg|                0.0|780dad9f-4f1d-4ac...|             |      40.0669112|      -74.0833427|Point Pleasant Beach| android|New Jersey|        NJ|   71.59.117.84|\n",
      "|                exit|9c4523f4cde116f32...|smartphones.colle...|           0|           0|29c29c72-6fd4-5bd...|   Intercession City|33848|         |              |          US|    Osceola|        097|1491055241|djn11tvx4th3|                0.0|e7cd5ab8-4eaa-44d...|             |28.3335956918464|-81.4889156155425|   Intercession City| android|   Florida|        FL|    71.46.59.17|\n",
      "|virtual_beacon_li...|9de1430e73cc96f15...|  com.airkast.wduzfm|           0|           0|                    |           Sheboygan|53081|         |              |          US|  Sheboygan|        117|1491055241|dpc8g2uq3nbe|             19.752|c3e6274a-24c2-47d...|             |      43.7308155|      -87.7419226|           Sheboygan| android| Wisconsin|        WI|   71.90.51.239|\n",
      "|                exit|72ac64a747d64bd31...|    ca.indigo.mobile|           0|           0|0e8ddc76-46c4-69b...|             Toronto|  M5C|         |              |          CA|           |           |1491055241|dpz83g58cc2u|               65.0|e8517dfa-ee4a-4db...|             |       43.654311|       -79.371338|Downtown Toronto ...|     ios|   Ontario|        ON|  209.171.88.65|\n",
      "|              config|9de1430e73cc96f15...|  com.airkast.wamjfm|           0|           0|                    |      Stone Mountain|30083|         |              |          US|     DeKalb|        089|1491055241|dnh07cunw0cb|             30.117|6a1c1184-f054-4a5...|             |      33.8046783|      -84.2044519|      Stone Mountain| android|   Georgia|        GA|   99.44.48.199|\n",
      "+--------------------+--------------------+--------------------+------------+------------+--------------------+--------------------+-----+---------+--------------+------------+-----------+-----------+----------+------------+-------------------+--------------------+-------------+----------------+-----------------+--------------------+--------+----------+----------+---------------+\n",
      "only showing top 20 rows\n",
      "\n"
     ]
    }
   ],
   "source": [
    "loc_event_df.show()"
   ]
  },
  {
   "cell_type": "code",
   "execution_count": 63,
   "metadata": {},
   "outputs": [
    {
     "data": {
      "text/plain": [
       "238211"
      ]
     },
     "execution_count": 63,
     "metadata": {},
     "output_type": "execute_result"
    }
   ],
   "source": [
    "loc_event_df.select('idfa').distinct().count()"
   ]
  },
  {
   "cell_type": "code",
   "execution_count": 9,
   "metadata": {},
   "outputs": [
    {
     "data": {
      "text/plain": [
       "8754673"
      ]
     },
     "execution_count": 9,
     "metadata": {},
     "output_type": "execute_result"
    }
   ],
   "source": [
    "loc_event_df.count()"
   ]
  },
  {
   "cell_type": "markdown",
   "metadata": {},
   "source": [
    "## 3. What is the max, min, avg, std deviation of the number of location events per IDFA? We define a location event to be one record in the sample file. "
   ]
  },
  {
   "cell_type": "code",
   "execution_count": 29,
   "metadata": {
    "collapsed": true
   },
   "outputs": [],
   "source": [
    "#count of location events per idfa\n",
    "loc_event_df_idfa = loc_event_df.groupBy('idfa').count()\n",
    "loc_event_df_idfa = loc_event_df_idfa.withColumnRenamed('count', 'num_loc_events')"
   ]
  },
  {
   "cell_type": "code",
   "execution_count": 30,
   "metadata": {},
   "outputs": [
    {
     "name": "stdout",
     "output_type": "stream",
     "text": [
      "+--------------------+--------------+\n",
      "|                idfa|num_loc_events|\n",
      "+--------------------+--------------+\n",
      "|6bc2a6e1-c710-4dd...|           158|\n",
      "|3a8ddabb-f98e-46b...|             6|\n",
      "|e118f5a2-7949-429...|            30|\n",
      "|5b9785d5-529d-49f...|           362|\n",
      "|0376307f-d608-452...|            73|\n",
      "|ad2aad6b-6af3-4eb...|            29|\n",
      "|7360e2a4-9d0b-4fa...|            34|\n",
      "|aad8e6c9-ae62-448...|            88|\n",
      "|0c837a76-54f9-4d4...|            95|\n",
      "|16c2c602-3f0c-4ce...|            15|\n",
      "|789864f3-01d1-410...|           248|\n",
      "|e2af50ab-61eb-423...|           107|\n",
      "|c940218f-906e-401...|             9|\n",
      "|6d866497-b0ab-498...|            42|\n",
      "|ace6dd48-1ac3-48e...|            32|\n",
      "|f92c8e26-a827-485...|           158|\n",
      "|4d88225c-97ea-413...|            45|\n",
      "|fcf44327-9fd7-44e...|           165|\n",
      "|32444aa4-67b8-42c...|            35|\n",
      "|6ad974b0-4de7-4b3...|            30|\n",
      "+--------------------+--------------+\n",
      "only showing top 20 rows\n",
      "\n"
     ]
    }
   ],
   "source": [
    "loc_event_df_idfa.show()"
   ]
  },
  {
   "cell_type": "code",
   "execution_count": 13,
   "metadata": {
    "collapsed": true
   },
   "outputs": [],
   "source": [
    "from pyspark.sql.functions import (max, min, avg, stddev)"
   ]
  },
  {
   "cell_type": "code",
   "execution_count": 31,
   "metadata": {},
   "outputs": [
    {
     "name": "stdout",
     "output_type": "stream",
     "text": [
      "+--------------+--------------+----------------+------------------+\n",
      "|max_loc_events|min_loc_events|  avg_loc_events|    std_loc_events|\n",
      "+--------------+--------------+----------------+------------------+\n",
      "|         15979|             1|36.7517578953113|118.61139276213812|\n",
      "+--------------+--------------+----------------+------------------+\n",
      "\n"
     ]
    }
   ],
   "source": [
    "#max, min, avg, stddev\n",
    "loc_event_df_idfa.select([max('num_loc_events').alias('max_loc_events'),\n",
    "                          min('num_loc_events').alias('min_loc_events'),\n",
    "                          avg('num_loc_events').alias('avg_loc_events'),\n",
    "                          stddev('num_loc_events').alias('std_loc_events')\n",
    "                         ]).show()"
   ]
  },
  {
   "cell_type": "markdown",
   "metadata": {},
   "source": [
    "## 4. Produce geohashes for all coordinates in a new RDD or DataFrame"
   ]
  },
  {
   "cell_type": "code",
   "execution_count": 38,
   "metadata": {},
   "outputs": [
    {
     "data": {
      "text/plain": [
       "2763239"
      ]
     },
     "execution_count": 38,
     "metadata": {},
     "output_type": "execute_result"
    }
   ],
   "source": [
    "#count distinct geohash values\n",
    "loc_event_df.select('geohash').distinct().count()"
   ]
  },
  {
   "cell_type": "code",
   "execution_count": 39,
   "metadata": {},
   "outputs": [
    {
     "data": {
      "text/plain": [
       "2767342"
      ]
     },
     "execution_count": 39,
     "metadata": {},
     "output_type": "execute_result"
    }
   ],
   "source": [
    "#grab unique lat, lng pair\n",
    "coord_df = loc_event_df.select(['lat', 'lng']).distinct()\n",
    "#count unique lat,lng pair\n",
    "coord_df.count()"
   ]
  },
  {
   "cell_type": "markdown",
   "metadata": {},
   "source": [
    "### Since the unique geohash count and coordinate count does not match, we need to generate separate geohash values for the coordinates. I am going to use monotonically_increasing_id function to generate unique geohash values"
   ]
  },
  {
   "cell_type": "code",
   "execution_count": 40,
   "metadata": {},
   "outputs": [],
   "source": [
    "from pyspark.sql.functions import monotonically_increasing_id\n",
    "#create geohash for each coordinate using monotonically_increasing_id\n",
    "coord_df = coord_df.withColumn('geohash_coord', monotonically_increasing_id())"
   ]
  },
  {
   "cell_type": "code",
   "execution_count": 41,
   "metadata": {},
   "outputs": [
    {
     "name": "stdout",
     "output_type": "stream",
     "text": [
      "+-----------+------------+-------------+\n",
      "|        lat|         lng|geohash_coord|\n",
      "+-----------+------------+-------------+\n",
      "| 40.4127551|-104.7690948|            0|\n",
      "|  43.450253|  -80.490263|            1|\n",
      "| 39.7185289| -74.9114232|            2|\n",
      "| 40.2688506| -79.8246405|            3|\n",
      "| 30.6381235| -88.2478296|            4|\n",
      "| 45.4375043|-122.8177072|            5|\n",
      "| 37.7038763|-121.8985499|            6|\n",
      "| 36.2916264|-115.1806714|            7|\n",
      "| 39.9424803| -76.7897343|            8|\n",
      "|  38.961574| -76.9149852|            9|\n",
      "|  46.799501| -93.2504123|           10|\n",
      "|47.89985909|-117.7854043|           11|\n",
      "| 40.1515891|   -74.20003|           12|\n",
      "| 37.0519105|-100.9378785|           13|\n",
      "| 34.5617546| -83.2575422|           14|\n",
      "| 41.9748247| -87.9034822|           15|\n",
      "| 33.6445113|-112.2756285|           16|\n",
      "| 40.4125194|-111.7549916|           17|\n",
      "| 41.8793913| -88.0734717|           18|\n",
      "| 37.7619249|-121.4385202|           19|\n",
      "+-----------+------------+-------------+\n",
      "only showing top 20 rows\n",
      "\n"
     ]
    }
   ],
   "source": [
    "coord_df.show()"
   ]
  },
  {
   "cell_type": "markdown",
   "metadata": {},
   "source": [
    "## 5. Using the geohashes, determine if there clusters of people at any point in this dataset. If so, how many people and how close are they?"
   ]
  },
  {
   "cell_type": "code",
   "execution_count": 69,
   "metadata": {},
   "outputs": [],
   "source": [
    "#geohash location info + user_ip (to calculate population)\n",
    "geohash_info_df = loc_event_df.select(['geohash', 'user_ip', 'city', 'community_code', 'country_code', 'county_code',\n",
    "                                       'state_code'])\n",
    "#drop duplicates to get unique user event.\n",
    "geohash_info_df = geohash_info_df.dropDuplicates()\n",
    "\n",
    "total_population = geohash_info_df.count()\n",
    "\n",
    "geohash_ppl_df = geohash_info_df.groupby(['city', 'community_code', 'country_code', 'county_code', 'state_code'])\\\n",
    ".count().orderBy('count', ascending=False)\n",
    "#rename column\n",
    "geohash_ppl_df = geohash_ppl_df.withColumnRenamed('count', 'num_people')"
   ]
  },
  {
   "cell_type": "code",
   "execution_count": 70,
   "metadata": {},
   "outputs": [
    {
     "name": "stdout",
     "output_type": "stream",
     "text": [
      "+------------+--------------+------------+-----------+----------+----------+\n",
      "|        city|community_code|country_code|county_code|state_code|num_people|\n",
      "+------------+--------------+------------+-----------+----------+----------+\n",
      "|     Toronto|              |          CA|           |        ON|     95435|\n",
      "|      Ottawa|              |          CA|           |        ON|     37261|\n",
      "|     Houston|              |          US|        201|        TX|     34905|\n",
      "|     Calgary|              |          CA|           |        AB|     33923|\n",
      "|    Edmonton|              |          CA|           |        AB|     28354|\n",
      "| Mississauga|              |          CA|           |        ON|     23853|\n",
      "|    Montréal|              |          CA|           |        QC|     22907|\n",
      "|    Columbus|              |          US|        049|        OH|     19133|\n",
      "|   Vancouver|              |          CA|           |        BC|     19013|\n",
      "|      Dallas|              |          US|        113|        TX|     18062|\n",
      "|    Winnipeg|              |          CA|           |        MB|     16994|\n",
      "|     Atlanta|              |          US|        121|        GA|     15919|\n",
      "|   Cleveland|              |          US|        035|        OH|     15123|\n",
      "|   Baltimore|              |          US|        510|        MD|     14875|\n",
      "|Indianapolis|              |          US|        097|        IN|     13407|\n",
      "|  Cincinnati|              |          US|        061|        OH|     13265|\n",
      "|    Hamilton|              |          CA|           |        ON|     13258|\n",
      "|   Las Vegas|              |          US|        003|        NV|     13029|\n",
      "|Philadelphia|              |          US|        101|        PA|     12699|\n",
      "|     Chicago|              |          US|        031|        IL|     11856|\n",
      "+------------+--------------+------------+-----------+----------+----------+\n",
      "only showing top 20 rows\n",
      "\n"
     ]
    }
   ],
   "source": [
    "geohash_ppl_df.show()"
   ]
  },
  {
   "cell_type": "code",
   "execution_count": 48,
   "metadata": {},
   "outputs": [
    {
     "data": {
      "text/plain": [
       "['action',\n",
       " 'api_key',\n",
       " 'app_id',\n",
       " 'beacon_major',\n",
       " 'beacon_minor',\n",
       " 'beacon_uuid',\n",
       " 'city',\n",
       " 'code',\n",
       " 'community',\n",
       " 'community_code',\n",
       " 'country_code',\n",
       " 'county',\n",
       " 'county_code',\n",
       " 'event_time',\n",
       " 'geohash',\n",
       " 'horizontal_accuracy',\n",
       " 'idfa',\n",
       " 'idfa_hash_alg',\n",
       " 'lat',\n",
       " 'lng',\n",
       " 'place',\n",
       " 'platform',\n",
       " 'state',\n",
       " 'state_code',\n",
       " 'user_ip']"
      ]
     },
     "execution_count": 48,
     "metadata": {},
     "output_type": "execute_result"
    }
   ],
   "source": [
    "loc_event_df.columns"
   ]
  },
  {
   "cell_type": "code",
   "execution_count": 49,
   "metadata": {
    "collapsed": true
   },
   "outputs": [],
   "source": [
    "geohash_info = loc_event_df.select(['geohash', 'country_code', 'city', 'community', 'county', 'state'])"
   ]
  },
  {
   "cell_type": "code",
   "execution_count": 50,
   "metadata": {
    "collapsed": true
   },
   "outputs": [],
   "source": [
    "geohash_ppl_loc = geohash_info.join(geohash_ppl_df, 'geohash')"
   ]
  },
  {
   "cell_type": "code",
   "execution_count": 51,
   "metadata": {},
   "outputs": [
    {
     "name": "stdout",
     "output_type": "stream",
     "text": [
      "+------------+------------+--------------------+---------+--------+--------------+----------+\n",
      "|     geohash|country_code|                city|community|  county|         state|num_people|\n",
      "+------------+------------+--------------------+---------+--------+--------------+----------+\n",
      "|6d6m9mh9p7hy|          AR|            ARGUELLO|         |        |       CORDOBA|         1|\n",
      "|6gy9zq0pckj1|          BR|              Osasco|         |        |     Sao Paulo|         1|\n",
      "|6kuz1hxe519b|          BR|        Assis Brasil|         |        |          Acre|         1|\n",
      "|6mc5phs2vbeg|          BR|Marechal Thaumaturgo|         |        |          Acre|         2|\n",
      "|6mc5phs2vbeg|          BR|Marechal Thaumaturgo|         |        |          Acre|         2|\n",
      "|75cj9nfxjz06|          BR|           Nilópolis|         |        |Rio de Janeiro|         1|\n",
      "|7h2xpzwhvfe1|          BR|      Belo Horizonte|         |        |  Minas Gerais|         1|\n",
      "|7h2y8hyn2yrb|          BR|      Belo Horizonte|         |        |  Minas Gerais|         1|\n",
      "|87yw7j96pp8w|          US|         Princeville|         |   Kauai|        Hawaii|         7|\n",
      "|87yw7j96pp8w|          US|         Princeville|         |   Kauai|        Hawaii|         7|\n",
      "|87yw7j96pp8w|          US|         Princeville|         |   Kauai|        Hawaii|         7|\n",
      "|87yw7j96pp8w|          US|         Princeville|         |   Kauai|        Hawaii|         7|\n",
      "|87yw7j96pp8w|          US|         Princeville|         |   Kauai|        Hawaii|         7|\n",
      "|87yw7j96pp8w|          US|         Princeville|         |   Kauai|        Hawaii|         7|\n",
      "|87yw7j96pp8w|          US|         Princeville|         |   Kauai|        Hawaii|         7|\n",
      "|87ywnw1077qz|          US|             Anahola|         |   Kauai|        Hawaii|         1|\n",
      "|87z97mdbpbpb|          US|             Kapolei|         |Honolulu|        Hawaii|         2|\n",
      "|87z97mdbpbpb|          US|             Kapolei|         |Honolulu|        Hawaii|         2|\n",
      "|87z9ddjfzpsr|          US|             Kapolei|         |Honolulu|        Hawaii|         1|\n",
      "|87z9pygetrfm|          US|            Honolulu|         |Honolulu|        Hawaii|         2|\n",
      "+------------+------------+--------------------+---------+--------+--------------+----------+\n",
      "only showing top 20 rows\n",
      "\n"
     ]
    }
   ],
   "source": [
    "geohash_ppl_loc.show()"
   ]
  },
  {
   "cell_type": "markdown",
   "metadata": {},
   "source": [
    "### Not much insights in community and county, so I will see if there are any clusters in the country, city, and state level. "
   ]
  },
  {
   "cell_type": "code",
   "execution_count": 72,
   "metadata": {},
   "outputs": [
    {
     "name": "stdout",
     "output_type": "stream",
     "text": [
      "+------------+---------------+---------------------+\n",
      "|country_code|sum(num_people)|population_percentage|\n",
      "+------------+---------------+---------------------+\n",
      "|          US|        2352971|   0.7661168985721007|\n",
      "|          CA|         677967|  0.22074304161599587|\n",
      "|          JP|           5788| 0.001884547072163...|\n",
      "|          GU|           5756| 0.001874128014404...|\n",
      "|          MX|           4547| 0.001480482988446...|\n",
      "|          GB|           2436|  7.93150771905662E-4|\n",
      "|          BR|           2213| 7.205429631474671E-4|\n",
      "|          DE|           1640| 5.339767101499531E-4|\n",
      "|          TR|           1627| 5.297439679353498E-4|\n",
      "|          AU|           1572| 5.118362124120282E-4|\n",
      "|          PR|           1245|  4.05366465937007E-4|\n",
      "|          PH|           1219| 3.969009815078004...|\n",
      "|          PK|            980| 3.190836438700938...|\n",
      "|          CO|            959| 3.122461372157347E-4|\n",
      "|          ES|            897| 2.920592128076268E-4|\n",
      "|          RU|            863| 2.809889639386643E-4|\n",
      "|          TH|            847| 2.757794350591526E-4|\n",
      "|          IN|            825| 2.686163328498239...|\n",
      "|          FR|            710| 2.311728440283333...|\n",
      "|          DO|            481| 1.566114619403216E-4|\n",
      "+------------+---------------+---------------------+\n",
      "only showing top 20 rows\n",
      "\n"
     ]
    }
   ],
   "source": [
    "#country-level: compute population precentage and show in descending order.\n",
    "geohash_ppl_df.groupby('country_code').agg({'num_people': 'sum'})\\\n",
    "              .withColumn('population_percentage', col('sum(num_people)') / total_population) \\\n",
    "              .orderBy('population_percentage', ascending=False).show()"
   ]
  },
  {
   "cell_type": "code",
   "execution_count": 73,
   "metadata": {},
   "outputs": [
    {
     "name": "stdout",
     "output_type": "stream",
     "text": [
      "+----------+---------------+---------------------+\n",
      "|state_code|sum(num_people)|population_percentage|\n",
      "+----------+---------------+---------------------+\n",
      "|        ON|         347008|  0.11298426233885055|\n",
      "|        TX|         249000|   0.0810732931874014|\n",
      "|        FL|         165248|  0.05380401426759722|\n",
      "|        GA|         149717|  0.04874718970336617|\n",
      "|        CA|         147038| 0.047874919211602925|\n",
      "|        OH|         139163|  0.04531085421621824|\n",
      "|        TN|         105931| 0.034490662733472364|\n",
      "|        AL|         105504|  0.03435163343150039|\n",
      "|        NC|          99211|  0.03230266060407743|\n",
      "|        AB|          95831|  0.03120214762828058|\n",
      "|        MI|          83035| 0.027035826906891068|\n",
      "|        BC|          82829| 0.026968754222567354|\n",
      "|        PA|          81647| 0.026583900276593422|\n",
      "|        SC|          71145| 0.023164495758303906|\n",
      "|        QC|          69383| 0.022590796390447677|\n",
      "|        VA|          68852| 0.022417905150758883|\n",
      "|        IL|          63016| 0.020517729491956977|\n",
      "|        MD|          61390| 0.019988311119576597|\n",
      "|        NY|          60972| 0.019852212177599353|\n",
      "|        LA|          48812| 0.015892970229170432|\n",
      "+----------+---------------+---------------------+\n",
      "only showing top 20 rows\n",
      "\n"
     ]
    }
   ],
   "source": [
    "#state-level: compute population precentage and show in descending order.\n",
    "geohash_ppl_df.groupby('state_code').agg({'num_people': 'sum'})\\\n",
    "              .withColumn('population_percentage', col('sum(num_people)') / total_population) \\\n",
    "              .orderBy('population_percentage', ascending=False).show()"
   ]
  },
  {
   "cell_type": "code",
   "execution_count": 58,
   "metadata": {},
   "outputs": [
    {
     "name": "stdout",
     "output_type": "stream",
     "text": [
      "+------------+---------------+---------------------+\n",
      "|country_code|sum(num_people)|population_percentage|\n",
      "+------------+---------------+---------------------+\n",
      "|          US|      716602000|    81.85365689843584|\n",
      "|          GU|      162249962|    18.53295514292767|\n",
      "|          CA|      110046106|   12.569984738436261|\n",
      "|          GB|        2424680|   0.2769583741163148|\n",
      "|          NL|        2414619|   0.2758091592912722|\n",
      "|          JP|        1442134|  0.16472734047291088|\n",
      "|          BE|         693145|  0.07917428783462271|\n",
      "|          TR|         485214|  0.05542342929313294|\n",
      "|          PK|         427021|  0.04877635064153738|\n",
      "|          MX|         331541|  0.03787017516245324|\n",
      "|          AU|          94997| 0.010851004943302852|\n",
      "|          BR|          89984| 0.010278396463237405|\n",
      "|          DE|          78937| 0.009016556072396993|\n",
      "|          MY|          78510| 0.008967782120474402|\n",
      "|          SE|          66694| 0.007618102926288623|\n",
      "|          NZ|          60705| 0.006934011127542...|\n",
      "|          PR|          60268| 0.006884094928502755|\n",
      "|          CO|          49781| 0.005686220376249347|\n",
      "|          DK|          47141| 0.005384667137196329|\n",
      "|          RU|          43532| 0.004972430152445...|\n",
      "+------------+---------------+---------------------+\n",
      "only showing top 20 rows\n",
      "\n"
     ]
    }
   ],
   "source": [
    "country_df"
   ]
  },
  {
   "cell_type": "code",
   "execution_count": 74,
   "metadata": {},
   "outputs": [
    {
     "name": "stdout",
     "output_type": "stream",
     "text": [
      "+------------+---------------+---------------------+\n",
      "|        city|sum(num_people)|population_percentage|\n",
      "+------------+---------------+---------------------+\n",
      "|     Toronto|          95486| 0.031089817161816108|\n",
      "|      Ottawa|          37746| 0.012289929817878126|\n",
      "|     Houston|          35102| 0.011429055170538811|\n",
      "|     Calgary|          33923|  0.01104517801122979|\n",
      "|    Edmonton|          28377| 0.009239425063369035|\n",
      "|    Columbus|          24220| 0.007885924341360892|\n",
      "| Mississauga|          23853| 0.007766430772687091|\n",
      "|    Montréal|          22907|  0.00745841737768596|\n",
      "|   Vancouver|          20641|  0.00672061785012511|\n",
      "|     Atlanta|          19404| 0.006317856148627859|\n",
      "|      Dallas|          19268| 0.006273575153152009|\n",
      "|   Cleveland|          17077| 0.005560195292213871|\n",
      "|    Winnipeg|          16994| 0.005533170861151403|\n",
      "|   Baltimore|          15288| 0.004977704844373465|\n",
      "|    Hamilton|          14509| 0.004724065907052237|\n",
      "|    Richmond|          14305| 0.004657644413838...|\n",
      "|  Cincinnati|          13846| 0.004508196054107469|\n",
      "|Indianapolis|          13590| 0.004424843592035281|\n",
      "|Philadelphia|          13237| 0.004309908361131054|\n",
      "|   Las Vegas|          13091| 0.004262371410105...|\n",
      "+------------+---------------+---------------------+\n",
      "only showing top 20 rows\n",
      "\n"
     ]
    }
   ],
   "source": [
    "#city-level: compute population precentage and show in descending order.\n",
    "geohash_ppl_df.groupby('city').agg({'num_people': 'sum'})\\\n",
    "              .withColumn('population_percentage', col('sum(num_people)') / total_population) \\\n",
    "              .orderBy('population_percentage', ascending=False).show()"
   ]
  },
  {
   "cell_type": "markdown",
   "metadata": {},
   "source": [
    "### Conclusion\n",
    "1. Most of the users are in North America - predominantly in US (76%)\n",
    "2. Ontario had the highest number of users by state\n",
    "3. Toronto had the highest number of users by city\n",
    "4. In US, the users are more scattered aroud the regions, where in Canada the users are concentrated in ON, QC, BC, and AB"
   ]
  },
  {
   "cell_type": "markdown",
   "metadata": {},
   "source": [
    "## 6. Write any findings into a local parquet format file for later use. "
   ]
  },
  {
   "cell_type": "markdown",
   "metadata": {},
   "source": [
    "###  Saving loc_event_df_idfa, coord_df, geohash_ppl_df to a parquet file."
   ]
  },
  {
   "cell_type": "code",
   "execution_count": 77,
   "metadata": {},
   "outputs": [],
   "source": [
    "loc_event_df_idfa.write.parquet('loc_event_df_idfa')"
   ]
  },
  {
   "cell_type": "code",
   "execution_count": 79,
   "metadata": {},
   "outputs": [],
   "source": [
    "geohash_ppl_df.write.parquet('geohash_ppl_df')"
   ]
  },
  {
   "cell_type": "markdown",
   "metadata": {},
   "source": [
    "## 7. Bonus: Conduct any additional analysis that might give a hint about the behaviour of the IDFAs in the data set."
   ]
  },
  {
   "cell_type": "code",
   "execution_count": 80,
   "metadata": {},
   "outputs": [
    {
     "name": "stdout",
     "output_type": "stream",
     "text": [
      "+--------------------+\n",
      "|              action|\n",
      "+--------------------+\n",
      "|         listrequest|\n",
      "|virtual_beacon_li...|\n",
      "|               visit|\n",
      "|                exit|\n",
      "|               enter|\n",
      "| beacon_list_request|\n",
      "|              config|\n",
      "|                    |\n",
      "|                near|\n",
      "+--------------------+\n",
      "\n"
     ]
    }
   ],
   "source": [
    "loc_event_df.select('action').distinct().show()"
   ]
  },
  {
   "cell_type": "code",
   "execution_count": null,
   "metadata": {
    "collapsed": true
   },
   "outputs": [],
   "source": []
  }
 ],
 "metadata": {
  "kernelspec": {
   "display_name": "Python 3",
   "language": "python",
   "name": "python3"
  },
  "language_info": {
   "codemirror_mode": {
    "name": "ipython",
    "version": 3
   },
   "file_extension": ".py",
   "mimetype": "text/x-python",
   "name": "python",
   "nbconvert_exporter": "python",
   "pygments_lexer": "ipython3",
   "version": "3.6.1"
  }
 },
 "nbformat": 4,
 "nbformat_minor": 2
}
